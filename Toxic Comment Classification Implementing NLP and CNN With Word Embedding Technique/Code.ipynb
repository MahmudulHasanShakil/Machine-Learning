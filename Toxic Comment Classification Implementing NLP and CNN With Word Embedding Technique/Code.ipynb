{
  "nbformat": 4,
  "nbformat_minor": 0,
  "metadata": {
    "colab": {
      "name": "NLP & CNN.ipynb",
      "provenance": [],
      "collapsed_sections": []
    },
    "kernelspec": {
      "name": "python3",
      "display_name": "Python 3"
    }
  },
  "cells": [
    {
      "cell_type": "code",
      "metadata": {
        "colab": {
          "base_uri": "https://localhost:8080/"
        },
        "id": "Arwg7dtSQhvA",
        "outputId": "3e05b550-a45c-4867-c6a0-27ad871d8411"
      },
      "source": [
        " !pip install gluonnlp\n",
        "!pip install mxnet"
      ],
      "execution_count": null,
      "outputs": [
        {
          "output_type": "stream",
          "text": [
            "Collecting gluonnlp\n",
            "\u001b[?25l  Downloading https://files.pythonhosted.org/packages/9c/81/a238e47ccba0d7a61dcef4e0b4a7fd4473cb86bed3d84dd4fe28d45a0905/gluonnlp-0.10.0.tar.gz (344kB)\n",
            "\r\u001b[K     |█                               | 10kB 14.7MB/s eta 0:00:01\r\u001b[K     |██                              | 20kB 20.6MB/s eta 0:00:01\r\u001b[K     |██▉                             | 30kB 10.8MB/s eta 0:00:01\r\u001b[K     |███▉                            | 40kB 9.0MB/s eta 0:00:01\r\u001b[K     |████▊                           | 51kB 8.2MB/s eta 0:00:01\r\u001b[K     |█████▊                          | 61kB 7.8MB/s eta 0:00:01\r\u001b[K     |██████▋                         | 71kB 7.8MB/s eta 0:00:01\r\u001b[K     |███████▋                        | 81kB 8.7MB/s eta 0:00:01\r\u001b[K     |████████▋                       | 92kB 8.5MB/s eta 0:00:01\r\u001b[K     |█████████▌                      | 102kB 8.5MB/s eta 0:00:01\r\u001b[K     |██████████▌                     | 112kB 8.5MB/s eta 0:00:01\r\u001b[K     |███████████▍                    | 122kB 8.5MB/s eta 0:00:01\r\u001b[K     |████████████▍                   | 133kB 8.5MB/s eta 0:00:01\r\u001b[K     |█████████████▎                  | 143kB 8.5MB/s eta 0:00:01\r\u001b[K     |██████████████▎                 | 153kB 8.5MB/s eta 0:00:01\r\u001b[K     |███████████████▏                | 163kB 8.5MB/s eta 0:00:01\r\u001b[K     |████████████████▏               | 174kB 8.5MB/s eta 0:00:01\r\u001b[K     |█████████████████▏              | 184kB 8.5MB/s eta 0:00:01\r\u001b[K     |██████████████████              | 194kB 8.5MB/s eta 0:00:01\r\u001b[K     |███████████████████             | 204kB 8.5MB/s eta 0:00:01\r\u001b[K     |████████████████████            | 215kB 8.5MB/s eta 0:00:01\r\u001b[K     |█████████████████████           | 225kB 8.5MB/s eta 0:00:01\r\u001b[K     |█████████████████████▉          | 235kB 8.5MB/s eta 0:00:01\r\u001b[K     |██████████████████████▉         | 245kB 8.5MB/s eta 0:00:01\r\u001b[K     |███████████████████████▉        | 256kB 8.5MB/s eta 0:00:01\r\u001b[K     |████████████████████████▊       | 266kB 8.5MB/s eta 0:00:01\r\u001b[K     |█████████████████████████▊      | 276kB 8.5MB/s eta 0:00:01\r\u001b[K     |██████████████████████████▋     | 286kB 8.5MB/s eta 0:00:01\r\u001b[K     |███████████████████████████▋    | 296kB 8.5MB/s eta 0:00:01\r\u001b[K     |████████████████████████████▌   | 307kB 8.5MB/s eta 0:00:01\r\u001b[K     |█████████████████████████████▌  | 317kB 8.5MB/s eta 0:00:01\r\u001b[K     |██████████████████████████████▍ | 327kB 8.5MB/s eta 0:00:01\r\u001b[K     |███████████████████████████████▍| 337kB 8.5MB/s eta 0:00:01\r\u001b[K     |████████████████████████████████| 348kB 8.5MB/s \n",
            "\u001b[?25hRequirement already satisfied: numpy>=1.16.0 in /usr/local/lib/python3.7/dist-packages (from gluonnlp) (1.19.5)\n",
            "Requirement already satisfied: cython in /usr/local/lib/python3.7/dist-packages (from gluonnlp) (0.29.22)\n",
            "Requirement already satisfied: packaging in /usr/local/lib/python3.7/dist-packages (from gluonnlp) (20.9)\n",
            "Requirement already satisfied: pyparsing>=2.0.2 in /usr/local/lib/python3.7/dist-packages (from packaging->gluonnlp) (2.4.7)\n",
            "Building wheels for collected packages: gluonnlp\n",
            "  Building wheel for gluonnlp (setup.py) ... \u001b[?25l\u001b[?25hdone\n",
            "  Created wheel for gluonnlp: filename=gluonnlp-0.10.0-cp37-cp37m-linux_x86_64.whl size=595678 sha256=8336f5fd03cf78b2a893d9817661aae3310a0292e901e8251b171f9a2ceb3365\n",
            "  Stored in directory: /root/.cache/pip/wheels/37/65/52/63032864a0f31a08b9a88569f803b5bafac8abd207fd7f7534\n",
            "Successfully built gluonnlp\n",
            "Installing collected packages: gluonnlp\n",
            "Successfully installed gluonnlp-0.10.0\n",
            "Collecting mxnet\n",
            "\u001b[?25l  Downloading https://files.pythonhosted.org/packages/30/07/66174e78c12a3048db9039aaa09553e35035ef3a008ba3e0ed8d2aa3c47b/mxnet-1.8.0.post0-py2.py3-none-manylinux2014_x86_64.whl (46.9MB)\n",
            "\u001b[K     |████████████████████████████████| 46.9MB 85kB/s \n",
            "\u001b[?25hRequirement already satisfied: requests<3,>=2.20.0 in /usr/local/lib/python3.7/dist-packages (from mxnet) (2.23.0)\n",
            "Collecting graphviz<0.9.0,>=0.8.1\n",
            "  Downloading https://files.pythonhosted.org/packages/53/39/4ab213673844e0c004bed8a0781a0721a3f6bb23eb8854ee75c236428892/graphviz-0.8.4-py2.py3-none-any.whl\n",
            "Requirement already satisfied: numpy<2.0.0,>1.16.0 in /usr/local/lib/python3.7/dist-packages (from mxnet) (1.19.5)\n",
            "Requirement already satisfied: idna<3,>=2.5 in /usr/local/lib/python3.7/dist-packages (from requests<3,>=2.20.0->mxnet) (2.10)\n",
            "Requirement already satisfied: certifi>=2017.4.17 in /usr/local/lib/python3.7/dist-packages (from requests<3,>=2.20.0->mxnet) (2020.12.5)\n",
            "Requirement already satisfied: urllib3!=1.25.0,!=1.25.1,<1.26,>=1.21.1 in /usr/local/lib/python3.7/dist-packages (from requests<3,>=2.20.0->mxnet) (1.24.3)\n",
            "Requirement already satisfied: chardet<4,>=3.0.2 in /usr/local/lib/python3.7/dist-packages (from requests<3,>=2.20.0->mxnet) (3.0.4)\n",
            "Installing collected packages: graphviz, mxnet\n",
            "  Found existing installation: graphviz 0.10.1\n",
            "    Uninstalling graphviz-0.10.1:\n",
            "      Successfully uninstalled graphviz-0.10.1\n",
            "Successfully installed graphviz-0.8.4 mxnet-1.8.0.post0\n"
          ],
          "name": "stdout"
        }
      ]
    },
    {
      "cell_type": "code",
      "metadata": {
        "id": "kFcSNJQhQs8u"
      },
      "source": [
        "import gluonnlp as nlp\n",
        "import gc\n",
        "import time\n",
        "import warnings\n",
        "import pandas as pd \n",
        "import numpy as np\n",
        "from matplotlib.pyplot import imread\n",
        "from scipy import sparse\n",
        "import matplotlib.pyplot as plt\n",
        "import matplotlib.gridspec as gridspec \n",
        "import seaborn as sns\n",
        "from wordcloud import WordCloud ,STOPWORDS\n",
        "import matplotlib_venn as venn\n",
        "import scipy.stats as ss\n",
        "import sys, os, re, csv, codecs, numpy as np, pandas as pd\n",
        "import matplotlib.pyplot as plt\n",
        "from IPython.core.display import display, HTML\n",
        "from keras.preprocessing.text import Tokenizer\n",
        "from keras.preprocessing.sequence import pad_sequences\n",
        "from keras.layers import Dense, Input, LSTM, Embedding, Dropout, Activation\n",
        "from keras.layers import Bidirectional, GlobalMaxPool1D\n",
        "from keras.models import Model\n",
        "from keras import initializers, regularizers, constraints, optimizers, layers\n",
        "import keras.backend\n",
        "from keras.models import Sequential\n",
        "from keras.layers import Dense, Conv1D, MaxPooling1D\n",
        "from keras.layers import Dropout, GlobalMaxPooling1D, BatchNormalization\n",
        "from keras.layers import Bidirectional\n",
        "from keras.layers.embeddings import Embedding\n",
        "from keras.optimizers import Nadam\n",
        "import string\n",
        "import re \n",
        "import nltk\n",
        "from nltk.corpus import stopwords\n",
        "import spacy\n",
        "import nltk\n",
        "import collections\n",
        "from tqdm import tqdm\n",
        "from nltk import pos_tag\n",
        "from nltk.stem.wordnet import WordNetLemmatizer \n",
        "from nltk.tokenize import word_tokenize\n",
        "from sklearn.feature_extraction.text import TfidfVectorizer, CountVectorizer, HashingVectorizer\n",
        "from sklearn.decomposition import TruncatedSVD\n",
        "from sklearn.base import BaseEstimator, ClassifierMixin\n",
        "from sklearn.utils.validation import check_X_y, check_is_fitted\n",
        "from sklearn.linear_model import LogisticRegression\n",
        "from sklearn import metrics\n",
        "from sklearn.metrics import log_loss\n",
        "from sklearn.model_selection import StratifiedKFold\n",
        "from sklearn.model_selection import train_test_split"
      ],
      "execution_count": null,
      "outputs": []
    },
    {
      "cell_type": "code",
      "metadata": {
        "id": "u6R-smn6RqM8",
        "colab": {
          "resources": {
            "http://localhost:8080/nbextensions/google.colab/files.js": {
              "data": "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",
              "ok": true,
              "headers": [
                [
                  "content-type",
                  "application/javascript"
                ]
              ],
              "status": 200,
              "status_text": ""
            }
          },
          "base_uri": "https://localhost:8080/",
          "height": 140
        },
        "outputId": "c2684e5d-d03d-4650-a725-efe4b31e7aab"
      },
      "source": [
        "from google.colab import files \n",
        "uploaded = files.upload()"
      ],
      "execution_count": null,
      "outputs": [
        {
          "output_type": "display_data",
          "data": {
            "text/html": [
              "\n",
              "     <input type=\"file\" id=\"files-8b9cd927-22e8-4f58-9e88-a8bce1b47497\" name=\"files[]\" multiple disabled\n",
              "        style=\"border:none\" />\n",
              "     <output id=\"result-8b9cd927-22e8-4f58-9e88-a8bce1b47497\">\n",
              "      Upload widget is only available when the cell has been executed in the\n",
              "      current browser session. Please rerun this cell to enable.\n",
              "      </output>\n",
              "      <script src=\"/nbextensions/google.colab/files.js\"></script> "
            ],
            "text/plain": [
              "<IPython.core.display.HTML object>"
            ]
          },
          "metadata": {
            "tags": []
          }
        },
        {
          "output_type": "stream",
          "text": [
            "Saving test.csv to test.csv\n",
            "Saving test_labels.csv to test_labels.csv\n",
            "Saving train.csv to train.csv\n"
          ],
          "name": "stdout"
        }
      ]
    },
    {
      "cell_type": "code",
      "metadata": {
        "colab": {
          "base_uri": "https://localhost:8080/"
        },
        "id": "zVrz95KrZWT1",
        "outputId": "b1148f5a-3ea1-45e2-80d1-2bec664740fb"
      },
      "source": [
        "start_time=time.time()\n",
        "color = sns.color_palette()\n",
        "sns.set_style(\"dark\")\n",
        "%matplotlib inline\n",
        "nltk.download('stopwords') #-----must------\n",
        "eng_stopwords = set(stopwords.words(\"english\"))\n",
        "warnings.filterwarnings(\"ignore\")\n",
        "print(\"ALL OKAY\")\n",
        "train = pd.read_csv('train.csv')\n",
        "test = pd.read_csv('test.csv')"
      ],
      "execution_count": null,
      "outputs": [
        {
          "output_type": "stream",
          "text": [
            "[nltk_data] Downloading package stopwords to /root/nltk_data...\n",
            "[nltk_data]   Unzipping corpora/stopwords.zip.\n",
            "ALL OKAY\n"
          ],
          "name": "stdout"
        }
      ]
    },
    {
      "cell_type": "code",
      "metadata": {
        "colab": {
          "base_uri": "https://localhost:8080/",
          "height": 705
        },
        "id": "qS9UWgkhkHYX",
        "outputId": "0eb777d9-6fc0-47b6-ba93-191bc4d4b2ee"
      },
      "source": [
        "plt.rcParams['figure.figsize'] = (15, 12)\n",
        "sns.heatmap(train.corr(), cmap='inferno', annot=True)\n",
        "plt.show()"
      ],
      "execution_count": null,
      "outputs": [
        {
          "output_type": "display_data",
          "data": {
            "image/png": "[encoded data removed]",
            "text/plain": [
              "<Figure size 1080x864 with 2 Axes>"
            ]
          },
          "metadata": {
            "tags": [],
            "needs_background": "light"
          }
        }
      ]
    },
    {
      "cell_type": "code",
      "metadata": {
        "colab": {
          "base_uri": "https://localhost:8080/"
        },
        "id": "wjrY8cEvZcrX",
        "outputId": "d93fb187-2cc6-44f6-8af3-c02fdacbfb5c"
      },
      "source": [
        "null_check=train.isnull().sum()\n",
        "print(null_check)\n",
        "null_check=test.isnull().sum()\n",
        "print(null_check)"
      ],
      "execution_count": null,
      "outputs": [
        {
          "output_type": "stream",
          "text": [
            "id               0\n",
            "comment_text     0\n",
            "toxic            0\n",
            "severe_toxic     0\n",
            "obscene          0\n",
            "threat           0\n",
            "insult           0\n",
            "identity_hate    0\n",
            "dtype: int64\n",
            "id              0\n",
            "comment_text    0\n",
            "dtype: int64\n"
          ],
          "name": "stdout"
        }
      ]
    },
    {
      "cell_type": "code",
      "metadata": {
        "colab": {
          "base_uri": "https://localhost:8080/",
          "height": 402
        },
        "id": "pnkmt1JyZf3o",
        "outputId": "f59be859-8d5a-4dc4-99e7-2b011bec1a9b"
      },
      "source": [
        "train[\"comment_text\"].fillna(\"blank\", inplace=True)\n",
        "test[\"comment_text\"].fillna(\"blank\", inplace=True)\n",
        "temp_df=train.iloc[:,0:-1]\n",
        "train.head(500)"
      ],
      "execution_count": null,
      "outputs": [
        {
          "output_type": "execute_result",
          "data": {
            "text/html": [
              "<div>\n",
              "<style scoped>\n",
              "    .dataframe tbody tr th:only-of-type {\n",
              "        vertical-align: middle;\n",
              "    }\n",
              "\n",
              "    .dataframe tbody tr th {\n",
              "        vertical-align: top;\n",
              "    }\n",
              "\n",
              "    .dataframe thead th {\n",
              "        text-align: right;\n",
              "    }\n",
              "</style>\n",
              "<table border=\"1\" class=\"dataframe\">\n",
              "  <thead>\n",
              "    <tr style=\"text-align: right;\">\n",
              "      <th></th>\n",
              "      <th>id</th>\n",
              "      <th>comment_text</th>\n",
              "      <th>toxic</th>\n",
              "      <th>severe_toxic</th>\n",
              "      <th>obscene</th>\n",
              "      <th>threat</th>\n",
              "      <th>insult</th>\n",
              "      <th>identity_hate</th>\n",
              "    </tr>\n",
              "  </thead>\n",
              "  <tbody>\n",
              "    <tr>\n",
              "      <th>0</th>\n",
              "      <td>0000997932d777bf</td>\n",
              "      <td>Explanation\\nWhy the edits made under my usern...</td>\n",
              "      <td>0</td>\n",
              "      <td>0</td>\n",
              "      <td>0</td>\n",
              "      <td>0</td>\n",
              "      <td>0</td>\n",
              "      <td>0</td>\n",
              "    </tr>\n",
              "    <tr>\n",
              "      <th>1</th>\n",
              "      <td>000103f0d9cfb60f</td>\n",
              "      <td>D'aww! He matches this background colour I'm s...</td>\n",
              "      <td>0</td>\n",
              "      <td>0</td>\n",
              "      <td>0</td>\n",
              "      <td>0</td>\n",
              "      <td>0</td>\n",
              "      <td>0</td>\n",
              "    </tr>\n",
              "    <tr>\n",
              "      <th>2</th>\n",
              "      <td>000113f07ec002fd</td>\n",
              "      <td>Hey man, I'm really not trying to edit war. It...</td>\n",
              "      <td>0</td>\n",
              "      <td>0</td>\n",
              "      <td>0</td>\n",
              "      <td>0</td>\n",
              "      <td>0</td>\n",
              "      <td>0</td>\n",
              "    </tr>\n",
              "    <tr>\n",
              "      <th>3</th>\n",
              "      <td>0001b41b1c6bb37e</td>\n",
              "      <td>\"\\nMore\\nI can't make any real suggestions on ...</td>\n",
              "      <td>0</td>\n",
              "      <td>0</td>\n",
              "      <td>0</td>\n",
              "      <td>0</td>\n",
              "      <td>0</td>\n",
              "      <td>0</td>\n",
              "    </tr>\n",
              "    <tr>\n",
              "      <th>4</th>\n",
              "      <td>0001d958c54c6e35</td>\n",
              "      <td>You, sir, are my hero. Any chance you remember...</td>\n",
              "      <td>0</td>\n",
              "      <td>0</td>\n",
              "      <td>0</td>\n",
              "      <td>0</td>\n",
              "      <td>0</td>\n",
              "      <td>0</td>\n",
              "    </tr>\n",
              "    <tr>\n",
              "      <th>...</th>\n",
              "      <td>...</td>\n",
              "      <td>...</td>\n",
              "      <td>...</td>\n",
              "      <td>...</td>\n",
              "      <td>...</td>\n",
              "      <td>...</td>\n",
              "      <td>...</td>\n",
              "      <td>...</td>\n",
              "    </tr>\n",
              "    <tr>\n",
              "      <th>495</th>\n",
              "      <td>014b44616d8cb457</td>\n",
              "      <td>Sarek of Vulcan: Unfortunately for you, you ca...</td>\n",
              "      <td>0</td>\n",
              "      <td>0</td>\n",
              "      <td>0</td>\n",
              "      <td>0</td>\n",
              "      <td>0</td>\n",
              "      <td>0</td>\n",
              "    </tr>\n",
              "    <tr>\n",
              "      <th>496</th>\n",
              "      <td>014bb932bd289352</td>\n",
              "      <td>Keep your chin up! Darwinism was not accepted ...</td>\n",
              "      <td>0</td>\n",
              "      <td>0</td>\n",
              "      <td>0</td>\n",
              "      <td>0</td>\n",
              "      <td>0</td>\n",
              "      <td>0</td>\n",
              "    </tr>\n",
              "    <tr>\n",
              "      <th>497</th>\n",
              "      <td>014c96f873db11ff</td>\n",
              "      <td>\"\"\"Nazi filth\"\" is impolite  04:27, 20 Jan 200...</td>\n",
              "      <td>1</td>\n",
              "      <td>0</td>\n",
              "      <td>0</td>\n",
              "      <td>0</td>\n",
              "      <td>1</td>\n",
              "      <td>0</td>\n",
              "    </tr>\n",
              "    <tr>\n",
              "      <th>498</th>\n",
              "      <td>014d00c8f2a76df4</td>\n",
              "      <td>Interesting. I checked the other case number K...</td>\n",
              "      <td>0</td>\n",
              "      <td>0</td>\n",
              "      <td>0</td>\n",
              "      <td>0</td>\n",
              "      <td>0</td>\n",
              "      <td>0</td>\n",
              "    </tr>\n",
              "    <tr>\n",
              "      <th>499</th>\n",
              "      <td>014f50b1f448cb2d</td>\n",
              "      <td>The transcluded part of the GA review doesn't ...</td>\n",
              "      <td>0</td>\n",
              "      <td>0</td>\n",
              "      <td>0</td>\n",
              "      <td>0</td>\n",
              "      <td>0</td>\n",
              "      <td>0</td>\n",
              "    </tr>\n",
              "  </tbody>\n",
              "</table>\n",
              "<p>500 rows × 8 columns</p>\n",
              "</div>"
            ],
            "text/plain": [
              "                   id  ... identity_hate\n",
              "0    0000997932d777bf  ...             0\n",
              "1    000103f0d9cfb60f  ...             0\n",
              "2    000113f07ec002fd  ...             0\n",
              "3    0001b41b1c6bb37e  ...             0\n",
              "4    0001d958c54c6e35  ...             0\n",
              "..                ...  ...           ...\n",
              "495  014b44616d8cb457  ...             0\n",
              "496  014bb932bd289352  ...             0\n",
              "497  014c96f873db11ff  ...             0\n",
              "498  014d00c8f2a76df4  ...             0\n",
              "499  014f50b1f448cb2d  ...             0\n",
              "\n",
              "[500 rows x 8 columns]"
            ]
          },
          "metadata": {
            "tags": []
          },
          "execution_count": 7
        }
      ]
    },
    {
      "cell_type": "code",
      "metadata": {
        "colab": {
          "base_uri": "https://localhost:8080/",
          "height": 524
        },
        "id": "WmMyWVyzZkBH",
        "outputId": "d0462ecd-8f7f-4879-a6be-60374e1ca6f9"
      },
      "source": [
        "columns = [\"toxic\", \"severe_toxic\", \"obscene\", \"threat\", \"insult\", \"identity_hate\"]\n",
        "ff= train[columns].sum().to_frame().rename(columns={0:'count'}).sort_values('count')\n",
        "import seaborn as sns\n",
        "plt.style.use('seaborn')\n",
        "ff.plot.barh(y='count', title=\"-------\", figsize=(14,8),color='#009933', fontsize=20)"
      ],
      "execution_count": null,
      "outputs": [
        {
          "output_type": "execute_result",
          "data": {
            "text/plain": [
              "<matplotlib.axes._subplots.AxesSubplot at 0x7f9cf1216c10>"
            ]
          },
          "metadata": {
            "tags": []
          },
          "execution_count": 8
        },
        {
          "output_type": "display_data",
          "data": {
            "image/png": "[encoded data removed]",
            "text/plain": [
              "<Figure size 1008x576 with 1 Axes>"
            ]
          },
          "metadata": {
            "tags": []
          }
        }
      ]
    },
    {
      "cell_type": "code",
      "metadata": {
        "colab": {
          "base_uri": "https://localhost:8080/",
          "height": 721
        },
        "id": "qLoV1BH0Zo_o",
        "outputId": "257374ad-f43b-487f-ce50-6c218a94f2ba"
      },
      "source": [
        "temp_df=train.iloc[:,2:-1]\n",
        "corr=temp_df.corr()\n",
        "plt.figure(figsize=(14,12))\n",
        "sns.heatmap(corr,\n",
        "            xticklabels=corr.columns.values,\n",
        "            yticklabels=corr.columns.values, annot=True, cmap=\"inferno\")"
      ],
      "execution_count": null,
      "outputs": [
        {
          "output_type": "execute_result",
          "data": {
            "text/plain": [
              "<matplotlib.axes._subplots.AxesSubplot at 0x7f9cf1126f50>"
            ]
          },
          "metadata": {
            "tags": []
          },
          "execution_count": 9
        },
        {
          "output_type": "display_data",
          "data": {
            "image/png": "[encoded data removed]",
            "text/plain": [
              "<Figure size 1008x864 with 2 Axes>"
            ]
          },
          "metadata": {
            "tags": []
          }
        }
      ]
    },
    {
      "cell_type": "code",
      "metadata": {
        "id": "FDur3576_yG6",
        "colab": {
          "base_uri": "https://localhost:8080/",
          "height": 166
        },
        "outputId": "c2ae4855-22ff-4ebb-cad9-c01a7a493476"
      },
      "source": [
        "corr_mats=[]\n",
        "main_col='toxic'\n",
        "for other_col in temp_df.columns[1:]:\n",
        "    confusion_matrix = pd.crosstab(temp_df[main_col], temp_df[other_col])\n",
        "    corr_mats.append(confusion_matrix)\n",
        "out = pd.concat(corr_mats,axis=1,keys=temp_df.columns[1:])\n",
        "\n",
        "out"
      ],
      "execution_count": null,
      "outputs": [
        {
          "output_type": "execute_result",
          "data": {
            "text/html": [
              "<div>\n",
              "<style scoped>\n",
              "    .dataframe tbody tr th:only-of-type {\n",
              "        vertical-align: middle;\n",
              "    }\n",
              "\n",
              "    .dataframe tbody tr th {\n",
              "        vertical-align: top;\n",
              "    }\n",
              "\n",
              "    .dataframe thead tr th {\n",
              "        text-align: left;\n",
              "    }\n",
              "\n",
              "    .dataframe thead tr:last-of-type th {\n",
              "        text-align: right;\n",
              "    }\n",
              "</style>\n",
              "<table border=\"1\" class=\"dataframe\">\n",
              "  <thead>\n",
              "    <tr>\n",
              "      <th></th>\n",
              "      <th colspan=\"2\" halign=\"left\">severe_toxic</th>\n",
              "      <th colspan=\"2\" halign=\"left\">obscene</th>\n",
              "      <th colspan=\"2\" halign=\"left\">threat</th>\n",
              "      <th colspan=\"2\" halign=\"left\">insult</th>\n",
              "    </tr>\n",
              "    <tr>\n",
              "      <th>severe_toxic</th>\n",
              "      <th>0</th>\n",
              "      <th>1</th>\n",
              "      <th>0</th>\n",
              "      <th>1</th>\n",
              "      <th>0</th>\n",
              "      <th>1</th>\n",
              "      <th>0</th>\n",
              "      <th>1</th>\n",
              "    </tr>\n",
              "    <tr>\n",
              "      <th>toxic</th>\n",
              "      <th></th>\n",
              "      <th></th>\n",
              "      <th></th>\n",
              "      <th></th>\n",
              "      <th></th>\n",
              "      <th></th>\n",
              "      <th></th>\n",
              "      <th></th>\n",
              "    </tr>\n",
              "  </thead>\n",
              "  <tbody>\n",
              "    <tr>\n",
              "      <th>0</th>\n",
              "      <td>144277</td>\n",
              "      <td>0</td>\n",
              "      <td>143754</td>\n",
              "      <td>523</td>\n",
              "      <td>144248</td>\n",
              "      <td>29</td>\n",
              "      <td>143744</td>\n",
              "      <td>533</td>\n",
              "    </tr>\n",
              "    <tr>\n",
              "      <th>1</th>\n",
              "      <td>13699</td>\n",
              "      <td>1595</td>\n",
              "      <td>7368</td>\n",
              "      <td>7926</td>\n",
              "      <td>14845</td>\n",
              "      <td>449</td>\n",
              "      <td>7950</td>\n",
              "      <td>7344</td>\n",
              "    </tr>\n",
              "  </tbody>\n",
              "</table>\n",
              "</div>"
            ],
            "text/plain": [
              "             severe_toxic       obscene        threat       insult      \n",
              "severe_toxic            0     1       0     1       0    1       0     1\n",
              "toxic                                                                   \n",
              "0                  144277     0  143754   523  144248   29  143744   533\n",
              "1                   13699  1595    7368  7926   14845  449    7950  7344"
            ]
          },
          "metadata": {
            "tags": []
          },
          "execution_count": 10
        }
      ]
    },
    {
      "cell_type": "code",
      "metadata": {
        "colab": {
          "base_uri": "https://localhost:8080/"
        },
        "id": "RvrXTfjgZuCa",
        "outputId": "c7dffc48-8836-4ebf-df46-76e9825f0b3d"
      },
      "source": [
        "y_train = train[columns].values\n",
        "x_train = train[\"comment_text\"]\n",
        "x_test  = test[\"comment_text\"]\n",
        "word_counter = collections.Counter([word for sentence in tqdm(x_train, total=len(x_train)) \\\n",
        "                                                              for word in sentence.split()])\n",
        "\n",
        "print('{} words.'.format(len([word for sentence in x_train for word in sentence.split()])))\n",
        "print('{} unique words.'.format(len(word_counter)))\n",
        "print('20 Most common words in the dataset:')\n",
        "print('\"' + '\" \"'.join(list(zip(*word_counter.most_common(10)))[0]) + '\"')"
      ],
      "execution_count": null,
      "outputs": [
        {
          "output_type": "stream",
          "text": [
            "100%|██████████| 159571/159571 [00:01<00:00, 95505.15it/s]\n"
          ],
          "name": "stderr"
        },
        {
          "output_type": "stream",
          "text": [
            "10734904 words.\n",
            "532299 unique words.\n",
            "20 Most common words in the dataset:\n",
            "\"the\" \"to\" \"of\" \"and\" \"a\" \"I\" \"is\" \"you\" \"that\" \"in\"\n"
          ],
          "name": "stdout"
        }
      ]
    },
    {
      "cell_type": "code",
      "metadata": {
        "colab": {
          "base_uri": "https://localhost:8080/"
        },
        "id": "ONHQQ9w5edy0",
        "outputId": "08affb6b-5c68-4aa6-ee77-5d253bdc6a10"
      },
      "source": [
        "tokenizer = Tokenizer(num_words=None,\n",
        "                      filters='!\"#$%&()*+,-./:;<=>?@[\\\\]^_`{|}~\\t\\n',\n",
        "                      lower=True,\n",
        "                      split=\" \",\n",
        "                      char_level=False)\n",
        "\n",
        "# Fit and run tokenizer\n",
        "tokenizer.fit_on_texts(list(x_train))\n",
        "tokenized_train = tokenizer.texts_to_sequences(x_train)\n",
        "tokenized_test = tokenizer.texts_to_sequences(x_test)\n",
        "word_index = tokenizer.word_index\n",
        "\n",
        "# Extract variables\n",
        "vocab_size = len(word_index)\n",
        "print('Vocab size: {}'.format(vocab_size))\n",
        "longest = max(len(seq) for seq in tokenized_train)\n",
        "print(\"Longest comment size: {}\".format(longest))\n",
        "average = np.mean([len(seq) for seq in tokenized_train])\n",
        "print(\"Average comment size: {}\".format(average))\n",
        "stdev = np.std([len(seq) for seq in tokenized_train])\n",
        "print(\"Stdev of comment size: {}\".format(stdev))\n",
        "max_len = int(average + stdev * 3)\n",
        "print('Max comment size: {}'.format(max_len))\n",
        "print()"
      ],
      "execution_count": null,
      "outputs": [
        {
          "output_type": "stream",
          "text": [
            "Vocab size: 210337\n",
            "Longest comment size: 1403\n",
            "Average comment size: 68.22156908210138\n",
            "Stdev of comment size: 101.07344657013672\n",
            "Max comment size: 371\n",
            "\n"
          ],
          "name": "stdout"
        }
      ]
    },
    {
      "cell_type": "code",
      "metadata": {
        "colab": {
          "base_uri": "https://localhost:8080/"
        },
        "id": "aZBy6JxGgPbi",
        "outputId": "da498310-d731-428f-ee21-682dd403a3a0"
      },
      "source": [
        "# use trained embedding module\n",
        "# download module and unzip file\n",
        "import os\n",
        "import urllib.request\n",
        "import zipfile\n",
        "urllib.request.urlretrieve('https://dl.fbaipublicfiles.com/fasttext/vectors-wiki/wiki.en.zip', 'wiki.en.zip')\n",
        "\n",
        "# unzip files\n",
        "zip_model = zipfile.ZipFile('wiki.en.zip', 'r')\n",
        "zip_model.extractall('./')\n",
        "zip_model.close()\n",
        "\n",
        "# Pad sequences\n",
        "processed_X_train = pad_sequences(tokenized_train, maxlen=max_len, padding='post', truncating='post')\n",
        "processed_X_test = pad_sequences(tokenized_test, maxlen=max_len, padding='post', truncating='post')\n",
        "\n",
        "# Sample tokenization\n",
        "for sample_i, (sent, token_sent) in enumerate(zip(x_train[:2], tokenized_train[:2])):\n",
        "    print('Sequence {}'.format(sample_i + 1))\n",
        "    print('  Input:  {}'.format(sent))\n",
        "    print('  Output: {}'.format(token_sent))\n",
        "embedding_dim = 300\n",
        "embeddings_index = {}\n",
        "f = open('wiki.en.vec', encoding=\"utf8\")\n",
        "for line in f:\n",
        "    values = line.rstrip().rsplit(' ', embedding_dim)\n",
        "    word = values[0]\n",
        "    coefs = np.asarray(values[1:], dtype='float32')\n",
        "    embeddings_index[word] = coefs\n",
        "f.close()\n",
        "embedding_matrix = np.zeros((len(word_index) + 1, embedding_dim))\n",
        "for word, i in word_index.items():\n",
        "    embedding_vector = embeddings_index.get(word)\n",
        "    if embedding_vector is not None:\n",
        "        # Words not found in embedding index will be all-zeros.\n",
        "        embedding_matrix[i] = embedding_vector\n",
        "\n",
        "embedding_matrix = np.zeros((len(word_index) + 1, embedding_dim))\n",
        "for word, i in word_index.items():\n",
        "    embedding_vector = embeddings_index.get(word)\n",
        "    if embedding_vector is not None:\n",
        "        # Words not found in embedding index will be all-zeros.\n",
        "        embedding_matrix[i] = embedding_vector"
      ],
      "execution_count": null,
      "outputs": [
        {
          "output_type": "stream",
          "text": [
            "Sequence 1\n",
            "  Input:  Explanation\n",
            "Why the edits made under my username Hardcore Metallica Fan were reverted? They weren't vandalisms, just closure on some GAs after I voted at New York Dolls FAC. And please don't remove the template from the talk page since I'm retired now.89.205.38.27\n",
            "  Output: [688, 75, 1, 126, 130, 177, 29, 672, 4511, 12052, 1116, 86, 331, 51, 2278, 11448, 50, 6864, 15, 60, 2756, 148, 7, 2937, 34, 117, 1221, 15190, 2825, 4, 45, 59, 244, 1, 365, 31, 1, 38, 27, 143, 73, 3462, 89, 3085, 4583, 2273, 985]\n",
            "Sequence 2\n",
            "  Input:  D'aww! He matches this background colour I'm seemingly stuck with. Thanks.  (talk) 21:51, January 11, 2016 (UTC)\n",
            "  Output: [96145, 52, 2635, 13, 555, 3809, 73, 4556, 2706, 21, 94, 38, 803, 2679, 992, 589, 8377, 182]\n"
          ],
          "name": "stdout"
        }
      ]
    },
    {
      "cell_type": "code",
      "metadata": {
        "id": "Ju8ecI5xzS8g"
      },
      "source": [
        "import h5py\n",
        "with h5py.File('yesss.h5', 'w') as hf:\n",
        "    hf.create_dataset(\"fasttext\",  data=embedding_matrix)\n",
        "with h5py.File('yesss.h5', 'r') as hf:\n",
        "    embedding_matrix = hf['fasttext'][:]"
      ],
      "execution_count": null,
      "outputs": []
    },
    {
      "cell_type": "code",
      "metadata": {
        "colab": {
          "base_uri": "https://localhost:8080/"
        },
        "id": "6BrQtYB_zXo3",
        "outputId": "e3c263f4-f061-4b9c-e401-600a78f6d776"
      },
      "source": [
        "#-----CNN---------\n",
        "model = Sequential()\n",
        "\n",
        "# Add Embedding layer\n",
        "model.add(Embedding(vocab_size + 1, embedding_dim, weights=[embedding_matrix], input_length=max_len, trainable=True))\n",
        "\n",
        "# Add Recurrent layers\n",
        "#model.add(Bidirectional(CuDNNGRU(300, return_sequences=True)))\n",
        "\n",
        "# Add Convolutional layer\n",
        "model.add(Conv1D(filters=128, kernel_size=5, padding='same', activation='relu'))\n",
        "model.add(MaxPooling1D(3))\n",
        "model.add(GlobalMaxPooling1D())\n",
        "model.add(BatchNormalization())\n",
        "\n",
        "# Add fully connected layers\n",
        "model.add(Dense(50, activation='relu'))\n",
        "model.add(Dropout(0.3))\n",
        "model.add(Dense(6, activation='sigmoid'))\n",
        "\n",
        "# Summarize the model\n",
        "model.summary()\n",
        "\n",
        "def loss(y_true, y_pred):\n",
        "     return keras.backend.binary_crossentropy(y_true, y_pred)\n",
        "       \n",
        "lr = .0001\n",
        "model.compile(loss=loss, optimizer=Nadam(lr=lr, clipnorm=1.0),\n",
        "              metrics=['binary_accuracy'])"
      ],
      "execution_count": null,
      "outputs": [
        {
          "output_type": "stream",
          "text": [
            "Model: \"sequential\"\n",
            "_________________________________________________________________\n",
            "Layer (type)                 Output Shape              Param #   \n",
            "=================================================================\n",
            "embedding (Embedding)        (None, 371, 300)          63101400  \n",
            "_________________________________________________________________\n",
            "conv1d (Conv1D)              (None, 371, 128)          192128    \n",
            "_________________________________________________________________\n",
            "max_pooling1d (MaxPooling1D) (None, 123, 128)          0         \n",
            "_________________________________________________________________\n",
            "global_max_pooling1d (Global (None, 128)               0         \n",
            "_________________________________________________________________\n",
            "batch_normalization (BatchNo (None, 128)               512       \n",
            "_________________________________________________________________\n",
            "dense (Dense)                (None, 50)                6450      \n",
            "_________________________________________________________________\n",
            "dropout (Dropout)            (None, 50)                0         \n",
            "_________________________________________________________________\n",
            "dense_1 (Dense)              (None, 6)                 306       \n",
            "=================================================================\n",
            "Total params: 63,300,796\n",
            "Trainable params: 63,300,540\n",
            "Non-trainable params: 256\n",
            "_________________________________________________________________\n"
          ],
          "name": "stdout"
        }
      ]
    },
    {
      "cell_type": "code",
      "metadata": {
        "id": "oOn9z5dPED3Z"
      },
      "source": [
        "from sklearn.model_selection import train_test_split\n",
        "from sklearn.metrics import roc_auc_score\n",
        "from keras.callbacks import Callback\n",
        "\n",
        "class RocAucEvaluation(Callback):\n",
        "    def __init__(self, filepath, validation_data=(), interval=1, max_epoch = 100):\n",
        "        super(Callback, self).__init__()\n",
        "        # Initialize state variables\n",
        "        self.interval = interval\n",
        "        self.filepath = filepath\n",
        "        self.stopped_epoch = max_epoch\n",
        "        self.best = 0\n",
        "        self.X_val, self.y_val = validation_data\n",
        "        self.y_pred = np.zeros(self.y_val.shape)\n",
        "\n",
        "    def on_epoch_end(self, epoch, logs={}):\n",
        "        if epoch % self.interval == 0:\n",
        "            y_pred = self.model.predict_proba(self.X_val, verbose=0)\n",
        "            current = roc_auc_score(self.y_val, y_pred)\n",
        "            logs['roc_auc_val'] = current\n",
        "\n",
        "            if current > self.best: #save model\n",
        "                print(\" - AUC - improved from {:.5f} to {:.5f}\".format(self.best, current))\n",
        "                self.best = current\n",
        "                self.y_pred = y_pred\n",
        "                self.stopped_epoch = epoch+1\n",
        "                self.model.save(self.filepath, overwrite=True)\n",
        "            else:\n",
        "                print(\" - AUC - did not improve\")\n",
        "            \n",
        "[X, X_val, y, y_val] = train_test_split(processed_X_train, y_train, test_size=0.03, shuffle=False)\n",
        "RocAuc = RocAucEvaluation(filepath='model.best.hdf5',validation_data=(X_val, y_val), interval=1)"
      ],
      "execution_count": null,
      "outputs": []
    },
    {
      "cell_type": "code",
      "metadata": {
        "colab": {
          "base_uri": "https://localhost:8080/"
        },
        "id": "sCzzDtOBEQMr",
        "outputId": "5389a8d4-ec08-49ef-8b2f-90457136b985"
      },
      "source": [
        "from keras.callbacks import EarlyStopping, ModelCheckpoint\n",
        "\n",
        "model.compile(loss='binary_crossentropy', optimizer='Adam')\n",
        "batch_size = 64\n",
        "epochs = 2\n",
        "\n",
        "early_stop = EarlyStopping(monitor=\"roc_auc_val\", mode=\"max\", patience=2)\n",
        "                                                    \n",
        "# Train\n",
        "graph = model.fit(X, y, batch_size=batch_size, epochs=epochs,\n",
        "                  validation_data=(X_val, y_val), callbacks=[RocAuc, early_stop],\n",
        "                  verbose=1, shuffle=False)\n"
      ],
      "execution_count": null,
      "outputs": [
        {
          "output_type": "stream",
          "text": [
            "Epoch 1/2\n",
            "2419/2419 [==============================] - 2503s 1s/step - loss: 0.1154 - val_loss: 0.0438\n",
            " - AUC - improved from 0.00000 to 0.98524\n",
            "Epoch 2/2\n",
            "2419/2419 [==============================] - 2496s 1s/step - loss: 0.0403 - val_loss: 0.0454\n",
            " - AUC - improved from 0.98524 to 0.98634\n"
          ],
          "name": "stdout"
        }
      ]
    },
    {
      "cell_type": "code",
      "metadata": {
        "colab": {
          "base_uri": "https://localhost:8080/",
          "height": 1000
        },
        "id": "2jfonlhJLVvU",
        "outputId": "f914cddf-1bc0-477f-911f-56df92d841c6"
      },
      "source": [
        "import matplotlib.pyplot as plt\n",
        "%matplotlib inline\n",
        "\n",
        "# Visualize history of loss\n",
        "plt.plot(graph.history['loss'])\n",
        "plt.plot(graph.history['val_loss'])\n",
        "plt.title('model loss')\n",
        "plt.ylabel('loss')\n",
        "plt.xlabel('epoch')\n",
        "plt.legend(['train', 'test'], loc='upper left')\n",
        "plt.show()\n",
        "\n",
        "\n",
        "predictions = model.predict(processed_X_test, verbose=0)\n",
        "\n",
        "def toxicity_level(string):\n",
        "   \n",
        "    # Process string\n",
        "    new_string = [string]\n",
        "    new_string = tokenizer.texts_to_sequences(new_string)\n",
        "    new_string = pad_sequences(new_string, maxlen=max_len, padding='post', truncating='post')\n",
        "    \n",
        "    # Predict\n",
        "    prediction = model.predict(new_string)\n",
        "    \n",
        "    # Print output\n",
        "    print(\"Toxicity levels for '{}':\".format(string))\n",
        "    print('Toxic:         {:.0%}'.format(prediction[0][0]))\n",
        "    print('Severe Toxic:  {:.0%}'.format(prediction[0][1]))\n",
        "    print('Obscene:       {:.0%}'.format(prediction[0][2]))\n",
        "    print('Threat:        {:.0%}'.format(prediction[0][3]))\n",
        "    print('Insult:        {:.0%}'.format(prediction[0][4]))\n",
        "    print('Identity Hate: {:.0%}'.format(prediction[0][5]))\n",
        "    print()\n",
        "    \n",
        "    return\n",
        "\n",
        "toxicity_level('go jump off a bridge jerk')\n",
        "toxicity_level('i will kill you')\n",
        "toxicity_level('have a nice day')\n",
        "toxicity_level('u r ugly as my jackass')\n",
        "toxicity_level('you son of a bitch')\n",
        "toxicity_level('stupid boy!!')\n",
        "toxicity_level('let me fuck you')\n",
        "toxicity_level('you bastard!')\n",
        "toxicity_level('I am a Human')"
      ],
      "execution_count": null,
      "outputs": [
        {
          "output_type": "display_data",
          "data": {
            "image/png": "[encoded data removed]",
            "text/plain": [
              "<Figure size 432x288 with 1 Axes>"
            ]
          },
          "metadata": {
            "tags": [],
            "needs_background": "light"
          }
        },
        {
          "output_type": "stream",
          "text": [
            "Toxicity levels for 'go jump off a bridge jerk':\n",
            "Toxic:         100%\n",
            "Severe Toxic:  16%\n",
            "Obscene:       92%\n",
            "Threat:        1%\n",
            "Insult:        92%\n",
            "Identity Hate: 10%\n",
            "\n",
            "Toxicity levels for 'i will kill you':\n",
            "Toxic:         99%\n",
            "Severe Toxic:  1%\n",
            "Obscene:       4%\n",
            "Threat:        97%\n",
            "Insult:        11%\n",
            "Identity Hate: 0%\n",
            "\n",
            "Toxicity levels for 'have a nice day':\n",
            "Toxic:         0%\n",
            "Severe Toxic:  0%\n",
            "Obscene:       0%\n",
            "Threat:        0%\n",
            "Insult:        0%\n",
            "Identity Hate: 0%\n",
            "\n",
            "Toxicity levels for 'u r ugly as my jackass':\n",
            "Toxic:         100%\n",
            "Severe Toxic:  14%\n",
            "Obscene:       98%\n",
            "Threat:        0%\n",
            "Insult:        89%\n",
            "Identity Hate: 0%\n",
            "\n",
            "Toxicity levels for 'you son of a bitch':\n",
            "Toxic:         100%\n",
            "Severe Toxic:  25%\n",
            "Obscene:       99%\n",
            "Threat:        0%\n",
            "Insult:        97%\n",
            "Identity Hate: 1%\n",
            "\n",
            "Toxicity levels for 'stupid boy!!':\n",
            "Toxic:         97%\n",
            "Severe Toxic:  1%\n",
            "Obscene:       42%\n",
            "Threat:        0%\n",
            "Insult:        70%\n",
            "Identity Hate: 2%\n",
            "\n",
            "Toxicity levels for 'let me fuck you':\n",
            "Toxic:         100%\n",
            "Severe Toxic:  22%\n",
            "Obscene:       100%\n",
            "Threat:        0%\n",
            "Insult:        74%\n",
            "Identity Hate: 0%\n",
            "\n",
            "Toxicity levels for 'you bastard!':\n",
            "Toxic:         100%\n",
            "Severe Toxic:  10%\n",
            "Obscene:       96%\n",
            "Threat:        0%\n",
            "Insult:        92%\n",
            "Identity Hate: 0%\n",
            "\n",
            "Toxicity levels for 'I am a Human':\n",
            "Toxic:         41%\n",
            "Severe Toxic:  0%\n",
            "Obscene:       5%\n",
            "Threat:        0%\n",
            "Insult:        2%\n",
            "Identity Hate: 0%\n",
            "\n"
          ],
          "name": "stdout"
        }
      ]
    }
  ]
}